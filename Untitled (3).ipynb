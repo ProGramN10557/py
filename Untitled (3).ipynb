{
 "cells": [
  {
   "cell_type": "code",
   "execution_count": 1,
   "metadata": {
    "collapsed": true
   },
   "outputs": [],
   "source": [
    "import pandas as pd"
   ]
  },
  {
   "cell_type": "code",
   "execution_count": 2,
   "metadata": {
    "collapsed": true
   },
   "outputs": [],
   "source": [
    "columns = [\"mpg\", \"cylinders\", \"displacement\", \"horsepower\", \"weight\", \"acceleration\", \"model year\", \"origin\", \"car name\"]\n",
    "\n",
    "cars = pd.read_table('https://archive.ics.uci.edu/ml/machine-learning-databases/auto-mpg/auto-mpg.data',\n",
    "                    delim_whitespace = True, names=columns)"
   ]
  },
  {
   "cell_type": "code",
   "execution_count": 3,
   "metadata": {
    "collapsed": true
   },
   "outputs": [],
   "source": [
    "cars = cars[cars['horsepower']!='?']\n",
    "cars['horsepower'] = cars['horsepower'].astype('float')"
   ]
  },
  {
   "cell_type": "markdown",
   "metadata": {},
   "source": [
    "The concepts I am interested in are bias and variance values, so first, I create a function that can be used to train the model and to compute the bias and variance values. The function takes in a list containing the columns name in the dataset as the input variable, and return the values of bias and variance. Now it can be used to train univariate or multivariate models."
   ]
  },
  {
   "cell_type": "code",
   "execution_count": 4,
   "metadata": {
    "collapsed": true
   },
   "outputs": [],
   "source": [
    "from sklearn.linear_model import LinearRegression\n",
    "from sklearn.metrics import mean_squared_error\n",
    "import numpy as np\n",
    "\n",
    "def var_and_mse(cols):\n",
    "    lr = LinearRegression()\n",
    "    lr.fit(cars[cols],cars['mpg'])\n",
    "    prediction = lr.predict(cars[cols])\n",
    "    \n",
    "    mse = mean_squared_error(prediction,cars['mpg'])\n",
    "    var = np.var(prediction)\n",
    "    \n",
    "    return (mse,var)"
   ]
  },
  {
   "cell_type": "code",
   "execution_count": 5,
   "metadata": {
    "collapsed": false
   },
   "outputs": [
    {
     "name": "stdout",
     "output_type": "stream",
     "text": [
      "18.6766165974 42.0861218449\n"
     ]
    }
   ],
   "source": [
    "weight_mse, weight_var = var_and_mse(['weight'])\n",
    "print(weight_mse,weight_var)"
   ]
  },
  {
   "cell_type": "markdown",
   "metadata": {},
   "source": [
    "Now, a new function is created to perform the cross validation and compute the cross validation error. The principle is almost the same as the previous one except adding function to get multiple folds. In the end, the mean value of mse and variance are returned."
   ]
  },
  {
   "cell_type": "code",
   "execution_count": 6,
   "metadata": {
    "collapsed": true
   },
   "outputs": [],
   "source": [
    "from sklearn.cross_validation import KFold\n",
    "\n",
    "def cross_val(cols):\n",
    "    features = cars[cols]\n",
    "    target = cars['mpg']\n",
    "    \n",
    "    var_list = []\n",
    "    mse_list = []\n",
    "    \n",
    "    kf = KFold(len(cars),5,shuffle=True,random_state=3)\n",
    "    \n",
    "    for i,j in kf:\n",
    "        x_train = features.iloc[i]\n",
    "        x_test = features.iloc[j]\n",
    "        y_train = target.iloc[i]\n",
    "        y_test = target.iloc[j]\n",
    "        \n",
    "        lr = LinearRegression()\n",
    "        lr.fit(x_train,y_train)\n",
    "        prediction = lr.predict(x_test)\n",
    "        \n",
    "        mse = mean_squared_error(y_test,prediction)\n",
    "        var = np.var(prediction)\n",
    "        \n",
    "        mse_list.append(mse)\n",
    "        var_list.append(var)\n",
    "        \n",
    "    avg_mse = np.mean(mse_list)\n",
    "    avg_var = np.mean(var_list)\n",
    "    \n",
    "    return (avg_mse,avg_var)\n",
    "\n"
   ]
  },
  {
   "cell_type": "markdown",
   "metadata": {},
   "source": [
    "Now, to test the function and to see the effect of the increase of the number of features, I plot the error and variance values in a figure."
   ]
  },
  {
   "cell_type": "code",
   "execution_count": 7,
   "metadata": {
    "collapsed": false
   },
   "outputs": [
    {
     "data": {
      "image/png": "[encoded data removed]",
      "text/plain": [
       "<matplotlib.figure.Figure at 0x111d87c50>"
      ]
     },
     "metadata": {},
     "output_type": "display_data"
    }
   ],
   "source": [
    "%matplotlib inline\n",
    "import matplotlib.pyplot as plt\n",
    "\n",
    "two_mse, two_var = cross_val([\"cylinders\", \"displacement\"])\n",
    "three_mse, three_var = cross_val([\"cylinders\", \"displacement\", \"horsepower\"])\n",
    "four_mse, four_var = cross_val([\"cylinders\", \"displacement\", \"horsepower\", \"weight\"])\n",
    "five_mse, five_var = cross_val([\"cylinders\", \"displacement\", \"horsepower\", \"weight\", \"acceleration\"])\n",
    "six_mse, six_var = cross_val([\"cylinders\", \"displacement\", \"horsepower\", \"weight\", \"acceleration\", \"model year\"])\n",
    "seven_mse, seven_var = cross_val([\"cylinders\", \"displacement\", \"horsepower\", \"weight\", \"acceleration\",\"model year\", \"origin\"])\n",
    "\n",
    "mse_list = [two_mse,three_mse,four_mse,five_mse,six_mse,seven_mse]\n",
    "var_list = [two_var,three_var,four_var,five_var,six_var,seven_var]\n",
    "\n",
    "plt.scatter(range(2,8),mse_list, c='red')\n",
    "plt.scatter(range(2,8),var_list, c='blue')\n",
    "\n",
    "plt.show()"
   ]
  },
  {
   "cell_type": "markdown",
   "metadata": {},
   "source": [
    "Then it comes to the conclusion, as we can see, the higher order multivariate models overfit in relation to the lower ones. However, the increased variance with the increased model complexity means that the model will have more unpredictable performance on truly new, unseen data."
   ]
  }
 ],
 "metadata": {
  "kernelspec": {
   "display_name": "Python 3",
   "language": "python",
   "name": "python3"
  },
  "language_info": {
   "codemirror_mode": {
    "name": "ipython",
    "version": 3
   },
   "file_extension": ".py",
   "mimetype": "text/x-python",
   "name": "python",
   "nbconvert_exporter": "python",
   "pygments_lexer": "ipython3",
   "version": "3.5.1"
  }
 },
 "nbformat": 4,
 "nbformat_minor": 0
}
