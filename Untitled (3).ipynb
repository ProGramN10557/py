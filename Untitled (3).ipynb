{
 "cells": [
  {
   "cell_type": "code",
   "execution_count": null,
   "metadata": {},
   "outputs": [],
   "source": [
    "\n",
    "\n",
    "data=pd.read_csv('C:\\\\Users\\\\Vishaal\\\\Documents\\\\Default.csv')\n",
    "\n",
    "import pandas as pd\n",
    "import numpy  as np\n",
    "import matplotlib.pyplot as plt\n",
    "from sklearn.cross_validation import train_test_split\n",
    "from sklearn.metrics import accuracy_score\n",
    "from sklearn.metrics import roc_auc_score\n",
    "from sklearn.metrics import roc_curve\n",
    "from sklearn.metrics import classification_report\n",
    "\n",
    "\n",
    "data = pd.read_csv(Location);\n",
    "print(data.head)\n",
    "\n",
    "print(data['student'])\n",
    "\n",
    "def encode_target(data):\n",
    "    data['student'] = [0 if student=='No' else 1 for student in data.student]\n",
    "    data['default'] = [0 if default=='No' else 1 for default in data.default]\n",
    "    return\n",
    "\n",
    "encode_target(data)\n",
    "print(data.head)\n",
    "\n",
    "feature_cols = ['student', 'balance', 'income']\n",
    "X = data[feature_cols]\n",
    "y = data.default"
   ]
  }
 ],
 "metadata": {
  "kernelspec": {
   "display_name": "Python 3",
   "language": "python",
   "name": "python3"
  },
  "language_info": {
   "codemirror_mode": {
    "name": "ipython",
    "version": 3
   },
   "file_extension": ".py",
   "mimetype": "text/x-python",
   "name": "python",
   "nbconvert_exporter": "python",
   "pygments_lexer": "ipython3",
   "version": "3.6.3"
  }
 },
 "nbformat": 4,
 "nbformat_minor": 2
}
